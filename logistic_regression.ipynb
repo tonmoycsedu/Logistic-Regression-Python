{
 "cells": [
  {
   "cell_type": "code",
   "execution_count": 2,
   "metadata": {
    "collapsed": true
   },
   "outputs": [],
   "source": [
    "# Logistic Regression on breast-cancer-wisconsin Dataset\n",
    "from random import seed\n",
    "from random import randrange\n",
    "from csv import reader\n",
    "from math import exp"
   ]
  },
  {
   "cell_type": "code",
   "execution_count": 3,
   "metadata": {
    "collapsed": true
   },
   "outputs": [],
   "source": [
    "# Load a CSV file\n",
    "def load_csv(filename):\n",
    "    dataset = list()\n",
    "    with open(filename, 'r') as file:\n",
    "        csv_reader = reader(file)\n",
    "        for row in csv_reader:\n",
    "            if not row:\n",
    "                continue\n",
    "            dataset.append(row)\n",
    "    return dataset"
   ]
  },
  {
   "cell_type": "code",
   "execution_count": 4,
   "metadata": {
    "collapsed": true
   },
   "outputs": [],
   "source": [
    "# Convert string column to float\n",
    "def str_column_to_float(dataset, column):\n",
    "    for row in dataset:\n",
    "        row[column] = float(row[column].strip())"
   ]
  },
  {
   "cell_type": "code",
   "execution_count": 5,
   "metadata": {
    "collapsed": true
   },
   "outputs": [],
   "source": [
    "# Find the min and max values for each column\n",
    "def dataset_minmax(dataset):\n",
    "    minmax = list()\n",
    "    for i in range(len(dataset[0])):\n",
    "        col_values = [row[i] for row in dataset]\n",
    "        value_min = min(col_values)\n",
    "        value_max = max(col_values)\n",
    "        minmax.append([value_min, value_max])\n",
    "    return minmax\n",
    "\n",
    "# Rescale dataset columns to the range 0-1\n",
    "def normalize_dataset(dataset, minmax):\n",
    "    for row in dataset:\n",
    "        for i in range(len(row)):\n",
    "            row[i] = (row[i] - minmax[i][0]) / (minmax[i][1] - minmax[i][0])"
   ]
  },
  {
   "cell_type": "code",
   "execution_count": 6,
   "metadata": {
    "collapsed": true
   },
   "outputs": [],
   "source": [
    "filename = 'breast-cancer-wisconsin.data.csv'\n",
    "dataset = load_csv(filename)\n",
    "for i in range(len(dataset[0])):\n",
    "    str_column_to_float(dataset, i)\n",
    "# normalize\n",
    "minmax = dataset_minmax(dataset)\n",
    "normalize_dataset(dataset, minmax)"
   ]
  },
  {
   "cell_type": "code",
   "execution_count": 7,
   "metadata": {
    "collapsed": false
   },
   "outputs": [
    {
     "name": "stdout",
     "output_type": "stream",
     "text": [
      "[[1.0, 10.0], [1.0, 10.0], [1.0, 10.0], [1.0, 10.0], [1.0, 10.0], [1.0, 10.0], [1.0, 10.0], [1.0, 10.0], [1.0, 10.0], [2.0, 4.0]]\n"
     ]
    }
   ],
   "source": [
    "print(minmax)"
   ]
  },
  {
   "cell_type": "code",
   "execution_count": 8,
   "metadata": {
    "collapsed": true
   },
   "outputs": [],
   "source": [
    "# Make a prediction with coefficients\n",
    "def predict(row, coefficients):\n",
    "    z = coefficients[0]\n",
    "    for i in range(len(row)-1):\n",
    "        z += coefficients[i + 1] * row[i]\n",
    "    return 1.0 / (1.0 + exp(-z))"
   ]
  },
  {
   "cell_type": "code",
   "execution_count": 9,
   "metadata": {
    "collapsed": true
   },
   "outputs": [],
   "source": [
    "#learn value of the coefficients using gradient descent\n",
    "def coefficients_gd(train, l_rate, n_epoch):\n",
    "    coef = [0.0 for i in range(len(train[0]))]\n",
    "    for epoch in range(n_epoch):\n",
    "        for row in train:\n",
    "            z = predict(row, coef)\n",
    "            error = row[-1] - z\n",
    "            for i in range(len(row)):\n",
    "                coef[i] = coef[i] + l_rate * error * row[i]\n",
    "    return coef"
   ]
  },
  {
   "cell_type": "code",
   "execution_count": 10,
   "metadata": {
    "collapsed": false
   },
   "outputs": [],
   "source": [
    "#create training and test set\n",
    "import random\n",
    "random.shuffle(dataset)\n",
    "length = len(dataset)\n",
    "train_data = dataset[:int(length*2/3)]\n",
    "test_data = dataset[int(length*1/3):]"
   ]
  },
  {
   "cell_type": "code",
   "execution_count": 11,
   "metadata": {
    "collapsed": false
   },
   "outputs": [
    {
     "name": "stdout",
     "output_type": "stream",
     "text": [
      "[-4.643459492860538, 2.8109936203825416, 2.4768692479727106, 5.514066484658498, -5.034694053025206, 9.180305828448772, -0.9733882903047585, 2.258159761432655, -1.0980525400145291, 17.495305369639304]\n"
     ]
    }
   ],
   "source": [
    "l_rate = 0.008\n",
    "n_epoch = 100\n",
    "coef = coefficients_gd(train_data, l_rate, n_epoch)\n",
    "print(coef)"
   ]
  },
  {
   "cell_type": "code",
   "execution_count": 20,
   "metadata": {
    "collapsed": false
   },
   "outputs": [],
   "source": [
    "cls = []\n",
    "prob = []\n",
    "for row in test_data:\n",
    "    yhat = predict(row, coef)\n",
    "    cls.append(row[-1])\n",
    "    prob.append(yhat)\n",
    "    #print(\"Expected=%.3f, Predicted=%.3f [%d]\" % (float(row[-1]), yhat, round(yhat)))"
   ]
  },
  {
   "cell_type": "code",
   "execution_count": 14,
   "metadata": {
    "collapsed": true
   },
   "outputs": [],
   "source": [
    "def find_rates(cls, prob, threshold):\n",
    "    tp=0\n",
    "    fp=0\n",
    "    tn=0\n",
    "    fn=0\n",
    "    for i in range(len(cls)):\n",
    "        if(prob[i] >= threshold):\n",
    "            if(cls[i] == 1):\n",
    "                tp += 1\n",
    "            else:\n",
    "                fp += 1\n",
    "        elif(prob[i] < threshold):\n",
    "            if(cls[i] == 0):\n",
    "                tn += 1\n",
    "            else:\n",
    "                fn += 1\n",
    "    #print((tp,fp,tn,fn)) \n",
    "    #print(\"####\")\n",
    "    tpr = tp/(tp+fn)\n",
    "    fpr = fp/(tn+fp)\n",
    "    return [fpr,tpr]\n",
    "        \n",
    "            \n",
    "        \n",
    "    "
   ]
  },
  {
   "cell_type": "code",
   "execution_count": 21,
   "metadata": {
    "collapsed": false
   },
   "outputs": [
    {
     "name": "stdout",
     "output_type": "stream",
     "text": [
      "[[1.0, 1.0], [0.32450331125827814, 0.9512195121951219], [0.1456953642384106, 0.9390243902439024], [0.09602649006622517, 0.9146341463414634], [0.076158940397351, 0.8841463414634146], [0.056291390728476824, 0.8719512195121951], [0.046357615894039736, 0.8658536585365854], [0.033112582781456956, 0.8414634146341463], [0.033112582781456956, 0.8170731707317073], [0.029801324503311258, 0.774390243902439], [0.0, 0.0]]\n"
     ]
    }
   ],
   "source": [
    "thresholds = [0,.10,.20,.30,.40,.50,.60,.70,.80,.90,1]\n",
    "final_points = []\n",
    "for threshold in thresholds:\n",
    "    rates = find_rates(cls, prob, threshold)\n",
    "    #print(rates)\n",
    "    final_points.append(rates)\n",
    "print(final_points)"
   ]
  },
  {
   "cell_type": "code",
   "execution_count": 22,
   "metadata": {
    "collapsed": true
   },
   "outputs": [],
   "source": [
    "import numpy as np\n",
    "import matplotlib.pyplot as plt"
   ]
  },
  {
   "cell_type": "code",
   "execution_count": 23,
   "metadata": {
    "collapsed": false
   },
   "outputs": [
    {
     "data": {
      "image/png": "[encoded data removed]",
      "text/plain": [
       "<matplotlib.figure.Figure at 0xfb9e0a4fd0>"
      ]
     },
     "metadata": {},
     "output_type": "display_data"
    }
   ],
   "source": [
    "plt.plot([0, 1], [0, 1], 'k-', lw=2)\n",
    "for i in range(len(final_points)-1):\n",
    "    point1 = final_points[i];\n",
    "    point2 = final_points[i+1]\n",
    "    plt.plot([point1[0], point2[0]], [point1[1], point2[1]], 'r', lw=2)\n",
    "plt.show() "
   ]
  },
  {
   "cell_type": "code",
   "execution_count": null,
   "metadata": {
    "collapsed": true
   },
   "outputs": [],
   "source": []
  }
 ],
 "metadata": {
  "kernelspec": {
   "display_name": "Python 3",
   "language": "python",
   "name": "python3"
  },
  "language_info": {
   "codemirror_mode": {
    "name": "ipython",
    "version": 3
   },
   "file_extension": ".py",
   "mimetype": "text/x-python",
   "name": "python",
   "nbconvert_exporter": "python",
   "pygments_lexer": "ipython3",
   "version": "3.6.0"
  }
 },
 "nbformat": 4,
 "nbformat_minor": 2
}
